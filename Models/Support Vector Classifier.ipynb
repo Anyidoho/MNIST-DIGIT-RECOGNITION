{
 "cells": [
  {
   "cell_type": "markdown",
   "metadata": {},
   "source": [
    "# Optimizing SVC for digit recognition on the MNIST Dataset\n",
    "### Paul Steller"
   ]
  },
  {
   "cell_type": "code",
   "execution_count": 1,
   "metadata": {},
   "outputs": [],
   "source": [
    "import pandas as pd\n",
    "import numpy as np\n",
    "from matplotlib import pyplot as plt\n",
    "import matplotlib as mpl\n",
    "\n",
    "from sklearn.model_selection import train_test_split, cross_validate\n",
    "\n",
    "from sklearn.svm import SVC\n",
    "\n",
    "from PIL import Image\n",
    "\n",
    "import time\n"
   ]
  },
  {
   "cell_type": "code",
   "execution_count": 2,
   "metadata": {},
   "outputs": [
    {
     "data": {
      "text/html": [
       "<div>\n",
       "<style scoped>\n",
       "    .dataframe tbody tr th:only-of-type {\n",
       "        vertical-align: middle;\n",
       "    }\n",
       "\n",
       "    .dataframe tbody tr th {\n",
       "        vertical-align: top;\n",
       "    }\n",
       "\n",
       "    .dataframe thead th {\n",
       "        text-align: right;\n",
       "    }\n",
       "</style>\n",
       "<table border=\"1\" class=\"dataframe\">\n",
       "  <thead>\n",
       "    <tr style=\"text-align: right;\">\n",
       "      <th></th>\n",
       "      <th>0</th>\n",
       "      <th>1</th>\n",
       "      <th>2</th>\n",
       "      <th>3</th>\n",
       "      <th>4</th>\n",
       "      <th>5</th>\n",
       "      <th>6</th>\n",
       "      <th>7</th>\n",
       "      <th>8</th>\n",
       "      <th>9</th>\n",
       "      <th>...</th>\n",
       "      <th>775</th>\n",
       "      <th>776</th>\n",
       "      <th>777</th>\n",
       "      <th>778</th>\n",
       "      <th>779</th>\n",
       "      <th>780</th>\n",
       "      <th>781</th>\n",
       "      <th>782</th>\n",
       "      <th>783</th>\n",
       "      <th>784</th>\n",
       "    </tr>\n",
       "  </thead>\n",
       "  <tbody>\n",
       "    <tr>\n",
       "      <th>0</th>\n",
       "      <td>5</td>\n",
       "      <td>0</td>\n",
       "      <td>0</td>\n",
       "      <td>0</td>\n",
       "      <td>0</td>\n",
       "      <td>0</td>\n",
       "      <td>0</td>\n",
       "      <td>0</td>\n",
       "      <td>0</td>\n",
       "      <td>0</td>\n",
       "      <td>...</td>\n",
       "      <td>0</td>\n",
       "      <td>0</td>\n",
       "      <td>0</td>\n",
       "      <td>0</td>\n",
       "      <td>0</td>\n",
       "      <td>0</td>\n",
       "      <td>0</td>\n",
       "      <td>0</td>\n",
       "      <td>0</td>\n",
       "      <td>0</td>\n",
       "    </tr>\n",
       "    <tr>\n",
       "      <th>1</th>\n",
       "      <td>0</td>\n",
       "      <td>0</td>\n",
       "      <td>0</td>\n",
       "      <td>0</td>\n",
       "      <td>0</td>\n",
       "      <td>0</td>\n",
       "      <td>0</td>\n",
       "      <td>0</td>\n",
       "      <td>0</td>\n",
       "      <td>0</td>\n",
       "      <td>...</td>\n",
       "      <td>0</td>\n",
       "      <td>0</td>\n",
       "      <td>0</td>\n",
       "      <td>0</td>\n",
       "      <td>0</td>\n",
       "      <td>0</td>\n",
       "      <td>0</td>\n",
       "      <td>0</td>\n",
       "      <td>0</td>\n",
       "      <td>0</td>\n",
       "    </tr>\n",
       "    <tr>\n",
       "      <th>2</th>\n",
       "      <td>4</td>\n",
       "      <td>0</td>\n",
       "      <td>0</td>\n",
       "      <td>0</td>\n",
       "      <td>0</td>\n",
       "      <td>0</td>\n",
       "      <td>0</td>\n",
       "      <td>0</td>\n",
       "      <td>0</td>\n",
       "      <td>0</td>\n",
       "      <td>...</td>\n",
       "      <td>0</td>\n",
       "      <td>0</td>\n",
       "      <td>0</td>\n",
       "      <td>0</td>\n",
       "      <td>0</td>\n",
       "      <td>0</td>\n",
       "      <td>0</td>\n",
       "      <td>0</td>\n",
       "      <td>0</td>\n",
       "      <td>0</td>\n",
       "    </tr>\n",
       "    <tr>\n",
       "      <th>3</th>\n",
       "      <td>1</td>\n",
       "      <td>0</td>\n",
       "      <td>0</td>\n",
       "      <td>0</td>\n",
       "      <td>0</td>\n",
       "      <td>0</td>\n",
       "      <td>0</td>\n",
       "      <td>0</td>\n",
       "      <td>0</td>\n",
       "      <td>0</td>\n",
       "      <td>...</td>\n",
       "      <td>0</td>\n",
       "      <td>0</td>\n",
       "      <td>0</td>\n",
       "      <td>0</td>\n",
       "      <td>0</td>\n",
       "      <td>0</td>\n",
       "      <td>0</td>\n",
       "      <td>0</td>\n",
       "      <td>0</td>\n",
       "      <td>0</td>\n",
       "    </tr>\n",
       "    <tr>\n",
       "      <th>4</th>\n",
       "      <td>9</td>\n",
       "      <td>0</td>\n",
       "      <td>0</td>\n",
       "      <td>0</td>\n",
       "      <td>0</td>\n",
       "      <td>0</td>\n",
       "      <td>0</td>\n",
       "      <td>0</td>\n",
       "      <td>0</td>\n",
       "      <td>0</td>\n",
       "      <td>...</td>\n",
       "      <td>0</td>\n",
       "      <td>0</td>\n",
       "      <td>0</td>\n",
       "      <td>0</td>\n",
       "      <td>0</td>\n",
       "      <td>0</td>\n",
       "      <td>0</td>\n",
       "      <td>0</td>\n",
       "      <td>0</td>\n",
       "      <td>0</td>\n",
       "    </tr>\n",
       "  </tbody>\n",
       "</table>\n",
       "<p>5 rows × 785 columns</p>\n",
       "</div>"
      ],
      "text/plain": [
       "   0    1    2    3    4    5    6    7    8    9    ...  775  776  777  778  \\\n",
       "0    5    0    0    0    0    0    0    0    0    0  ...    0    0    0    0   \n",
       "1    0    0    0    0    0    0    0    0    0    0  ...    0    0    0    0   \n",
       "2    4    0    0    0    0    0    0    0    0    0  ...    0    0    0    0   \n",
       "3    1    0    0    0    0    0    0    0    0    0  ...    0    0    0    0   \n",
       "4    9    0    0    0    0    0    0    0    0    0  ...    0    0    0    0   \n",
       "\n",
       "   779  780  781  782  783  784  \n",
       "0    0    0    0    0    0    0  \n",
       "1    0    0    0    0    0    0  \n",
       "2    0    0    0    0    0    0  \n",
       "3    0    0    0    0    0    0  \n",
       "4    0    0    0    0    0    0  \n",
       "\n",
       "[5 rows x 785 columns]"
      ]
     },
     "execution_count": 2,
     "metadata": {},
     "output_type": "execute_result"
    }
   ],
   "source": [
    "train_set = pd.read_csv('mnist_train.csv', header = None)\n",
    "test_set = pd.read_csv('mnist_test.csv', header = None)\n",
    "\n",
    "train_set.head()"
   ]
  },
  {
   "cell_type": "code",
   "execution_count": 3,
   "metadata": {},
   "outputs": [],
   "source": [
    "X_train = train_set.loc[:,1:]\n",
    "y_train = train_set.loc[:,0]\n",
    "X_test = test_set.loc[:,1:]\n",
    "y_test = test_set.loc[:,0]\n",
    "\n",
    "X_train_array = X_train.values\n",
    "X_test_array = X_test.values\n",
    "y_train_array = y_train.values\n",
    "y_test_array = y_test.values"
   ]
  },
  {
   "cell_type": "markdown",
   "metadata": {},
   "source": [
    "### Deskewing the data\n",
    "code from: https://fsix.github.io/mnist/Deskewing.html"
   ]
  },
  {
   "cell_type": "code",
   "execution_count": 4,
   "metadata": {},
   "outputs": [],
   "source": [
    "from scipy.ndimage import interpolation\n",
    "\n",
    "def moments(image):\n",
    "    c0,c1 = np.mgrid[:image.shape[0],:image.shape[1]] # A trick in numPy to create a mesh grid\n",
    "    totalImage = np.sum(image) #sum of pixels\n",
    "    m0 = np.sum(c0*image)/totalImage #mu_x\n",
    "    m1 = np.sum(c1*image)/totalImage #mu_y\n",
    "    m00 = np.sum((c0-m0)**2*image)/totalImage #var(x)\n",
    "    m11 = np.sum((c1-m1)**2*image)/totalImage #var(y)\n",
    "    m01 = np.sum((c0-m0)*(c1-m1)*image)/totalImage #covariance(x,y)\n",
    "    mu_vector = np.array([m0,m1]) # Notice that these are \\mu_x, \\mu_y respectively\n",
    "    covariance_matrix = np.array([[m00,m01],[m01,m11]]) # Do you see a similarity between the covariance matrix\n",
    "    return mu_vector, covariance_matrix\n",
    "\n",
    "def deskew(image):\n",
    "    c,v = moments(image)\n",
    "    alpha = v[0,1]/v[0,0]\n",
    "    affine = np.array([[1,0],[alpha,1]])\n",
    "    ocenter = np.array(image.shape)/2.0\n",
    "    offset = c-np.dot(affine,ocenter)\n",
    "    img = interpolation.affine_transform(image,affine,offset=offset)\n",
    "    return (img - img.min()) / (img.max() - img.min())"
   ]
  },
  {
   "cell_type": "code",
   "execution_count": 5,
   "metadata": {},
   "outputs": [],
   "source": [
    "examples = (4181, 0), (3,1), (56282, 2), (25829,3), (9741,4) , (26901,5), (50027,6), (17935,7) , (41495, 8), (14662, 9)"
   ]
  },
  {
   "cell_type": "code",
   "execution_count": 6,
   "metadata": {},
   "outputs": [
    {
     "data": {
      "image/png": "[encoded data removed]",
      "text/plain": [
       "<Figure size 576x1080 with 40 Axes>"
      ]
     },
     "metadata": {
      "needs_background": "light"
     },
     "output_type": "display_data"
    }
   ],
   "source": [
    "from mpl_toolkits.axes_grid1 import AxesGrid\n",
    "grid = AxesGrid(plt.figure(figsize=(8,15)), 141,  # similar to subplot(141)\n",
    "                    nrows_ncols=(10, 2),\n",
    "                    axes_pad=0.05,\n",
    "                    label_mode=\"1\",\n",
    "                    )\n",
    "\n",
    "for examplenum,num in examples:\n",
    "    im = grid[2*num].imshow(X_train_array[examplenum].reshape(28,28),cmap='Greys')\n",
    "    im2 = grid[2*num+1].imshow(deskew(X_train_array[examplenum].reshape(28,28)),cmap='Greys')\n"
   ]
  },
  {
   "cell_type": "code",
   "execution_count": 7,
   "metadata": {},
   "outputs": [],
   "source": [
    "def deskewAll(X):\n",
    "    currents = []\n",
    "    for i in range(len(X)):\n",
    "        currents.append(deskew(X[i].reshape(28,28)).flatten())\n",
    "    return np.array(currents)\n",
    "\n",
    "X_train_deskewed = deskewAll(X_train_array)\n",
    "X_test_deskewed = deskewAll(X_test_array)"
   ]
  },
  {
   "cell_type": "markdown",
   "metadata": {},
   "source": [
    "## Skewed vs. Deskewed"
   ]
  },
  {
   "cell_type": "code",
   "execution_count": 13,
   "metadata": {},
   "outputs": [
    {
     "name": "stdout",
     "output_type": "stream",
     "text": [
      "SVC Error %: \t \t 2.080000000000004\n",
      "SVC Error % with deskewing train and test data: \t \t 1.3800000000000034\n",
      "SVC Error % with deskewing only train data: \t \t 89.68\n",
      "14.356088594595592 minutes\n"
     ]
    }
   ],
   "source": [
    "start = time.time()\n",
    "\n",
    "svc_original = SVC()\n",
    "svc_deskewed = SVC()\n",
    "\n",
    "svc_original.fit(X_train, y_train)\n",
    "svc_deskewed.fit(X_train_deskewed, y_train)\n",
    "\n",
    "print('SVC Error %: ', (1-svc_original.score(X_test, y_test))*100)\n",
    "print('SVC Error % ', (1-svc_deskewed.score(X_test_deskewed, y_test))*100)\n",
    "print('SVC Error % with deskewing only train data: ', (1-svc_deskewed.score(X_test, y_test))*100)\n",
    "print((time.time() - start)/60, 'minutes')"
   ]
  },
  {
   "cell_type": "markdown",
   "metadata": {},
   "source": [
    "## Choosing the Kernel\n",
    "### (Start with C = 1)"
   ]
  },
  {
   "cell_type": "code",
   "execution_count": 8,
   "metadata": {},
   "outputs": [
    {
     "name": "stdout",
     "output_type": "stream",
     "text": [
      "[ 3.62  1.35 30.44]\n",
      "Best Kernel: poly\n",
      "Error %: 1.3499999999999956\n",
      "22.817512281735738 minutes\n"
     ]
    }
   ],
   "source": [
    "start = time.time()\n",
    "\n",
    "kernels = ['linear', 'poly', 'sigmoid']\n",
    "\n",
    "scores_kernel = np.zeros(3)\n",
    "for j in range(3):\n",
    "    svc = SVC(kernel = kernels[j])\n",
    "    svc.fit(X_train_deskewed, y_train)\n",
    "    scores_kernel[j]=(1-svc.score(X_test_deskewed, y_test))*100\n",
    "    \n",
    "print(scores_kernel)\n",
    "print('Best Kernel:', kernels[np.argmin(scores_kernel)])\n",
    "print('Error %:', np.min(scores_kernel))\n",
    "\n",
    "print((time.time() - start)/60, 'minutes')"
   ]
  },
  {
   "cell_type": "markdown",
   "metadata": {},
   "source": [
    "# Kernel = Poly\n",
    "## Trying various degrees with C = 1"
   ]
  },
  {
   "cell_type": "markdown",
   "metadata": {},
   "source": [
    "### With original data"
   ]
  },
  {
   "cell_type": "code",
   "execution_count": 9,
   "metadata": {},
   "outputs": [
    {
     "name": "stderr",
     "output_type": "stream",
     "text": [
      "100%|██████████| 12/12 [3:54:31<00:00, 1172.63s/it] "
     ]
    },
    {
     "name": "stdout",
     "output_type": "stream",
     "text": [
      "[ 5.55  2.26  2.29  3.02  4.39  6.26  8.68 11.35 14.19 17.27 20.14 22.89]\n",
      "Best Poly Degree: 2\n",
      "Error %: 2.2599999999999953\n",
      "234.52503439982732 minutes\n"
     ]
    },
    {
     "name": "stderr",
     "output_type": "stream",
     "text": [
      "\n"
     ]
    }
   ],
   "source": [
    "from tqdm import tqdm\n",
    "start = time.time()\n",
    "\n",
    "scores_poly_orig = np.empty(12)\n",
    "for i in tqdm(range(12)):\n",
    "    svc = SVC(C = 1, kernel = 'poly', degree = i+1 )\n",
    "    svc.fit(X_train, y_train)\n",
    "    scores_poly_orig[i]=(1-svc.score(X_test, y_test))*100\n",
    "    \n",
    "\n",
    "print(scores_poly_orig)\n",
    "print('Best Poly Degree:', np.argmin(scores_poly_orig) + 1)\n",
    "print('Error %:', np.min(scores_poly_orig))\n",
    "\n",
    "print((time.time() - start)/60, 'minutes')"
   ]
  },
  {
   "cell_type": "markdown",
   "metadata": {},
   "source": [
    "### With deskewed data"
   ]
  },
  {
   "cell_type": "code",
   "execution_count": 8,
   "metadata": {},
   "outputs": [
    {
     "name": "stderr",
     "output_type": "stream",
     "text": [
      "100%|██████████| 12/12 [1:17:09<00:00, 385.79s/it]"
     ]
    },
    {
     "name": "stdout",
     "output_type": "stream",
     "text": [
      "[3.24 1.56 1.35 1.38 1.56 1.83 2.1  2.54 3.12 3.83 4.51 5.2 ]\n",
      "Best Poly Degree: 3\n",
      "Error %: 1.3499999999999956\n",
      "77.15875246922175 minutes\n"
     ]
    },
    {
     "name": "stderr",
     "output_type": "stream",
     "text": [
      "\n"
     ]
    }
   ],
   "source": [
    "from tqdm import tqdm\n",
    "start = time.time()\n",
    "\n",
    "scores_poly = np.empty(12)\n",
    "for i in tqdm(range(12)):\n",
    "    svc = SVC(C = 1, kernel = 'poly', degree = i+1 )\n",
    "    svc.fit(X_train_deskewed, y_train)\n",
    "    scores_poly[i]=(1-svc.score(X_test_deskewed, y_test))*100\n",
    "    \n",
    "\n",
    "print(scores_poly)\n",
    "print('Best Poly Degree:', np.argmin(scores_poly) + 1)\n",
    "print('Error %:', np.min(scores_poly))\n",
    "\n",
    "print((time.time() - start)/60, 'minutes')"
   ]
  },
  {
   "cell_type": "code",
   "execution_count": 54,
   "metadata": {},
   "outputs": [
    {
     "data": {
      "image/png": "[encoded data removed]",
      "text/plain": [
       "<Figure size 432x288 with 1 Axes>"
      ]
     },
     "metadata": {
      "needs_background": "light"
     },
     "output_type": "display_data"
    }
   ],
   "source": [
    "degrees = [1,2,3,4,5,6,7,8,9,10,11,12]\n",
    "skewed = [ 5.55,  2.26,  2.29,  3.02,  4.39,  6.26,  8.68, 11.35, 14.19, 17.27, 20.14, 22.89]\n",
    "deskewed = [3.24, 1.56, 1.35, 1.38, 1.56, 1.83, 2.1,  2.54, 3.12, 3.83, 4.51, 5.2 ]\n",
    "plt.scatter(degrees, skewed)\n",
    "plt.scatter(degrees, deskewed)\n",
    "plt.xlabel('Degree')\n",
    "plt.ylabel('% Error')\n",
    "plt.legend((plt.scatter(degrees, skewed), plt.scatter(degrees, deskewed)), ('Original Data', 'Deskewed Data'))\n",
    "plt.title('% Error vs. Degree for Original and Deskewed Data')\n",
    "plt.savefig('Degree vs Error')\n",
    "plt.show()\n"
   ]
  },
  {
   "cell_type": "markdown",
   "metadata": {},
   "source": [
    "## Translating our Data\n",
    "references: Hands-On Machine Learning with Scikit-Learn, Keras, and TensorFlow: Concepts By Aurélien Géron, https://www2.eecs.berkeley.edu/Pubs/TechRpts/2009/EECS-2009-159.pdf, \n",
    "http://yann.lecun.com/exdb/publis/pdf/lecun-98.pdf,\n",
    "https://people.eecs.berkeley.edu/~malik/cs294/decoste-scholkopf.pdf\n",
    "\n",
    "code from: https://github.com/ageron/handson-ml/blob/master/03_classification.ipynb"
   ]
  },
  {
   "cell_type": "code",
   "execution_count": 8,
   "metadata": {},
   "outputs": [],
   "source": [
    "from scipy.ndimage.interpolation import shift"
   ]
  },
  {
   "cell_type": "code",
   "execution_count": 9,
   "metadata": {},
   "outputs": [],
   "source": [
    "def shift_image(image, dx, dy):\n",
    "    image = image.reshape((28, 28))\n",
    "    shifted_image = shift(image, [dy, dx], cval=0, mode=\"constant\")\n",
    "    return shifted_image.reshape([-1])"
   ]
  },
  {
   "cell_type": "code",
   "execution_count": 10,
   "metadata": {},
   "outputs": [
    {
     "data": {
      "image/png": "[encoded data removed]",
      "text/plain": [
       "<Figure size 864x360 with 5 Axes>"
      ]
     },
     "metadata": {
      "needs_background": "light"
     },
     "output_type": "display_data"
    }
   ],
   "source": [
    "image = X_train_array[0]\n",
    "shifted_image_down = shift_image(image, 0, 2)\n",
    "shifted_image_left = shift_image(image, -2, 0)\n",
    "\n",
    "shifted_image_up = shift_image(image, 0, -2)\n",
    "shifted_image_right = shift_image(image, 2, 0)\n",
    "\n",
    "\n",
    "plt.figure(figsize=(12,5))\n",
    "plt.subplot(151)\n",
    "plt.title(\"Original\", fontsize=14)\n",
    "plt.imshow(image.reshape(28, 28), interpolation=\"nearest\", cmap=\"Greys\")\n",
    "plt.subplot(152)\n",
    "plt.title(\"Shifted down\", fontsize=14)\n",
    "plt.imshow(shifted_image_down.reshape(28, 28), interpolation=\"nearest\", cmap=\"Greys\")\n",
    "plt.subplot(153)\n",
    "plt.title(\"Shifted left\", fontsize=14)\n",
    "plt.imshow(shifted_image_left.reshape(28, 28), interpolation=\"nearest\", cmap=\"Greys\")\n",
    "plt.subplot(154)\n",
    "plt.title(\"Shifted up\", fontsize=14)\n",
    "plt.imshow(shifted_image_up.reshape(28, 28), interpolation=\"nearest\", cmap=\"Greys\")\n",
    "plt.subplot(155)\n",
    "plt.title(\"Shifted right\", fontsize=14)\n",
    "plt.imshow(shifted_image_right.reshape(28, 28), interpolation=\"nearest\", cmap=\"Greys\")\n",
    "plt.show()"
   ]
  },
  {
   "cell_type": "markdown",
   "metadata": {},
   "source": [
    "## 1-Pixel Translation with Poly Kernel Various Degrees.\n",
    "### Deskewed, C = 2"
   ]
  },
  {
   "cell_type": "code",
   "execution_count": 11,
   "metadata": {},
   "outputs": [
    {
     "data": {
      "text/plain": [
       "(300000, 784)"
      ]
     },
     "execution_count": 11,
     "metadata": {},
     "output_type": "execute_result"
    }
   ],
   "source": [
    "X_train_augmented = [image for image in X_train_deskewed]\n",
    "y_train_augmented = [label for label in y_train_array]\n",
    "\n",
    "for dx, dy in ((1, 0), (-1, 0), (0, 1), (0, -1)):\n",
    "    for image, label in zip(X_train_deskewed, y_train_array):\n",
    "        X_train_augmented.append(shift_image(image, dx, dy))\n",
    "        y_train_augmented.append(label)\n",
    "\n",
    "X_train_augmented = np.array(X_train_augmented)\n",
    "y_train_augmented = np.array(y_train_augmented)\n",
    "\n",
    "X_train_augmented.shape"
   ]
  },
  {
   "cell_type": "code",
   "execution_count": 12,
   "metadata": {},
   "outputs": [
    {
     "name": "stderr",
     "output_type": "stream",
     "text": [
      "100%|██████████| 10/10 [16:59:16<00:00, 6115.67s/it] "
     ]
    },
    {
     "name": "stdout",
     "output_type": "stream",
     "text": [
      "[3.22 0.9  0.84 0.97 1.06 1.19 1.41 1.66 1.93 2.26]\n",
      "Best Poly Degree: 3\n",
      "Error %: 0.8399999999999963\n",
      "1019.2795423150062 minutes\n"
     ]
    },
    {
     "name": "stderr",
     "output_type": "stream",
     "text": [
      "\n"
     ]
    }
   ],
   "source": [
    "from tqdm import tqdm\n",
    "start = time.time()\n",
    "\n",
    "scores_poly = np.empty(10)\n",
    "\n",
    "for i in tqdm(range(10)):\n",
    "    svc = SVC(C = 2, kernel = 'poly', degree = i+1 )\n",
    "    svc.fit(X_train_augmented, y_train_augmented)\n",
    "    scores_poly[i]=(1-svc.score(X_test_deskewed, y_test))*100\n",
    "    \n",
    "\n",
    "print(scores_poly)\n",
    "print('Best Poly Degree:', np.argmin(scores_poly) + 1)\n",
    "print('Error %:', np.min(scores_poly))\n",
    "\n",
    "print((time.time() - start)/60, 'minutes')"
   ]
  },
  {
   "cell_type": "markdown",
   "metadata": {},
   "source": [
    "### Confusion Matrix For Degree 3 polynomial\n",
    "https://www.geeksforgeeks.org/confusion-matrix-machine-learning/\n",
    "\n",
    "Rows represent the actual numbers. Columns represent the predicted numbers."
   ]
  },
  {
   "cell_type": "code",
   "execution_count": 12,
   "metadata": {},
   "outputs": [
    {
     "name": "stdout",
     "output_type": "stream",
     "text": [
      "Degree 3 Poly SVC 1 pixel translation Error % :  0.8399999999999963\n",
      "118.54125968217849 minutes\n"
     ]
    }
   ],
   "source": [
    "start = time.time()\n",
    "\n",
    "svc = SVC(C = 2, kernel = 'poly', degree = 3)\n",
    "svc.fit(X_train_augmented, y_train_augmented)\n",
    "\n",
    "print('Degree 3 Poly SVC 1 pixel translation Error % : ',(1-svc.score(X_test_deskewed, y_test))*100)\n",
    "\n",
    "print((time.time() - start)/60, 'minutes')"
   ]
  },
  {
   "cell_type": "code",
   "execution_count": 13,
   "metadata": {},
   "outputs": [
    {
     "name": "stdout",
     "output_type": "stream",
     "text": [
      "[[ 977    0    1    0    0    0    1    1    0    0]\n",
      " [   0 1131    1    0    0    1    2    0    0    0]\n",
      " [   2    4 1019    1    1    0    1    1    3    0]\n",
      " [   0    0    0 1005    0    2    0    2    0    1]\n",
      " [   0    0    0    0  975    0    4    0    1    2]\n",
      " [   1    0    0    4    0  882    2    1    1    1]\n",
      " [   2    1    0    0    3    3  948    0    1    0]\n",
      " [   2    0    3    1    0    0    0 1020    0    2]\n",
      " [   2    0    1    0    1    2    0    1  967    0]\n",
      " [   0    1    0    2    7    3    0    4    0  992]]\n"
     ]
    }
   ],
   "source": [
    "from sklearn.metrics import confusion_matrix\n",
    "\n",
    "\n",
    "test_predictions = svc.predict(X_test_deskewed)\n",
    "confusion = confusion_matrix(y_test, test_predictions)\n",
    "print(confusion)"
   ]
  },
  {
   "cell_type": "code",
   "execution_count": 14,
   "metadata": {},
   "outputs": [],
   "source": [
    "def plot_confusion_matrix(matrix):\n",
    "    \"\"\"If you prefer color and a colorbar\"\"\"\n",
    "    fig = plt.figure(figsize=(8,8))\n",
    "    ax = fig.add_subplot(111)\n",
    "    cax = ax.matshow(matrix)\n",
    "    fig.colorbar(cax)"
   ]
  },
  {
   "cell_type": "code",
   "execution_count": 15,
   "metadata": {},
   "outputs": [
    {
     "data": {
      "image/png": "[encoded data removed]",
      "text/plain": [
       "<Figure size 576x576 with 2 Axes>"
      ]
     },
     "metadata": {
      "needs_background": "light"
     },
     "output_type": "display_data"
    }
   ],
   "source": [
    "plot_confusion_matrix(confusion)"
   ]
  },
  {
   "cell_type": "code",
   "execution_count": 16,
   "metadata": {},
   "outputs": [],
   "source": [
    "def plot_digit(data):\n",
    "    image = data.reshape(28, 28)\n",
    "    plt.imshow(image, cmap = mpl.cm.binary,\n",
    "               interpolation=\"nearest\")\n",
    "    plt.axis(\"off\")\n",
    "\n",
    "def plot_digits(instances, images_per_row=10, **options):\n",
    "    size = 28\n",
    "    images_per_row = min(len(instances), images_per_row)\n",
    "    images = [instance.reshape(size,size) for instance in instances]\n",
    "    n_rows = (len(instances) - 1) // images_per_row + 1\n",
    "    row_images = []\n",
    "    n_empty = n_rows * images_per_row - len(instances)\n",
    "    images.append(np.zeros((size, size * n_empty)))\n",
    "    for row in range(n_rows):\n",
    "        rimages = images[row * images_per_row : (row + 1) * images_per_row]\n",
    "        row_images.append(np.concatenate(rimages, axis=1))\n",
    "    image = np.concatenate(row_images, axis=0)\n",
    "    plt.imshow(image, cmap = mpl.cm.binary, **options)\n",
    "    plt.axis(\"off\")\n",
    "\n",
    "def false_positive(num):\n",
    "    for i in range(10):\n",
    "        if i != num:\n",
    "            if np.sum([(y_test == i) & (test_predictions == num)])>0:\n",
    "                X = X_test_deskewed[(y_test == i) & (test_predictions == num)] \n",
    "                plot_digits(X[:25], images_per_row=5)\n",
    "                plt.title(('Predicted:',num, 'Actual:',i))\n",
    "                plt.show()\n",
    "            \n",
    "def false_negative(num2):\n",
    "    for i in range(10):\n",
    "        if i != num2:\n",
    "            if np.sum([(y_test == num2) & (test_predictions == i)])>0:\n",
    "                X = X_test_deskewed[(y_test == num2) & (test_predictions == i)] \n",
    "                plot_digits(X[:25], images_per_row=5)\n",
    "                plt.title(('Predicted:',i, 'Actual:',num2))\n",
    "                plt.show()   "
   ]
  },
  {
   "cell_type": "code",
   "execution_count": 18,
   "metadata": {},
   "outputs": [
    {
     "data": {
      "image/png": "[encoded data removed]",
      "text/plain": [
       "<Figure size 432x288 with 1 Axes>"
      ]
     },
     "metadata": {
      "needs_background": "light"
     },
     "output_type": "display_data"
    },
    {
     "data": {
      "image/png": "[encoded data removed]",
      "text/plain": [
       "<Figure size 432x288 with 1 Axes>"
      ]
     },
     "metadata": {
      "needs_background": "light"
     },
     "output_type": "display_data"
    },
    {
     "data": {
      "image/png": "[encoded data removed]",
      "text/plain": [
       "<Figure size 432x288 with 1 Axes>"
      ]
     },
     "metadata": {
      "needs_background": "light"
     },
     "output_type": "display_data"
    },
    {
     "data": {
      "image/png": "[encoded data removed]",
      "text/plain": [
       "<Figure size 432x288 with 1 Axes>"
      ]
     },
     "metadata": {
      "needs_background": "light"
     },
     "output_type": "display_data"
    },
    {
     "data": {
      "image/png": "[encoded data removed]",
      "text/plain": [
       "<Figure size 432x288 with 1 Axes>"
      ]
     },
     "metadata": {
      "needs_background": "light"
     },
     "output_type": "display_data"
    },
    {
     "data": {
      "image/png": "[encoded data removed]",
      "text/plain": [
       "<Figure size 432x288 with 1 Axes>"
      ]
     },
     "metadata": {
      "needs_background": "light"
     },
     "output_type": "display_data"
    },
    {
     "data": {
      "image/png": "[encoded data removed]",
      "text/plain": [
       "<Figure size 432x288 with 1 Axes>"
      ]
     },
     "metadata": {
      "needs_background": "light"
     },
     "output_type": "display_data"
    },
    {
     "data": {
      "image/png": "[encoded data removed]",
      "text/plain": [
       "<Figure size 432x288 with 1 Axes>"
      ]
     },
     "metadata": {
      "needs_background": "light"
     },
     "output_type": "display_data"
    }
   ],
   "source": [
    "false_positive(0)\n",
    "false_negative(0)"
   ]
  }
 ],
 "metadata": {
  "kernelspec": {
   "display_name": "Python 3",
   "language": "python",
   "name": "python3"
  },
  "language_info": {
   "codemirror_mode": {
    "name": "ipython",
    "version": 3
   },
   "file_extension": ".py",
   "mimetype": "text/x-python",
   "name": "python",
   "nbconvert_exporter": "python",
   "pygments_lexer": "ipython3",
   "version": "3.7.6"
  }
 },
 "nbformat": 4,
 "nbformat_minor": 4
}
